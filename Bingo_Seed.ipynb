{
  "nbformat": 4,
  "nbformat_minor": 0,
  "metadata": {
    "colab": {
      "name": "Bingo Seed",
      "provenance": [],
      "collapsed_sections": [
        "9jXL952ajJ49",
        "YhlqkEUUjIst",
        "o48yT6ZzjHDI",
        "H8X8XXtAxmvU"
      ],
      "authorship_tag": "ABX9TyNLZZDKzmgelXl7nBMNL8CF",
      "include_colab_link": true
    },
    "kernelspec": {
      "name": "python3",
      "display_name": "Python 3"
    },
    "language_info": {
      "name": "python"
    }
  },
  "cells": [
    {
      "cell_type": "markdown",
      "metadata": {
        "id": "view-in-github",
        "colab_type": "text"
      },
      "source": [
        "<a href=\"https://colab.research.google.com/github/CelinaWalkowicz/Minikins/blob/main/Bingo_Seed.ipynb\" target=\"_parent\"><img src=\"https://colab.research.google.com/assets/colab-badge.svg\" alt=\"Open In Colab\"/></a>"
      ]
    },
    {
      "cell_type": "markdown",
      "source": [
        "#Imports and Data"
      ],
      "metadata": {
        "id": "9jXL952ajJ49"
      }
    },
    {
      "cell_type": "code",
      "source": [
        "# Imports\n",
        "import random\n",
        "import pandas as pd"
      ],
      "metadata": {
        "id": "jCxs_Z0RfEfv"
      },
      "execution_count": 161,
      "outputs": []
    },
    {
      "cell_type": "code",
      "source": [
        "# Default Spread of Bingo Numbers \n",
        "bingo_default = {\n",
        "    'b' : [num for num in range(1, 16)],\n",
        "    'i' : [num for num in range(16, 31)],\n",
        "    'n' : [num for num in range(31, 46)],\n",
        "    'g' : [num for num in range(46, 61)],\n",
        "    'o' : [num for num in range(61, 76)]\n",
        "    }\n",
        "\n",
        "# Test Data\n",
        "bingo_test_one = [num for num in range(1, 26)]"
      ],
      "metadata": {
        "id": "_wuoTEzMeiUu"
      },
      "execution_count": 162,
      "outputs": []
    },
    {
      "cell_type": "markdown",
      "source": [
        "#Functions"
      ],
      "metadata": {
        "id": "YhlqkEUUjIst"
      }
    },
    {
      "cell_type": "code",
      "source": [
        "def bingo_board(number_dictionary):\n",
        "  '''\n",
        "  Returns a 5 x 5 array representing an traditional number filled bingo board, \n",
        "  with the middle square labeled as \"XX\" for \"Free Space\"\n",
        "  Require one list, ideally with 25 unique entries to avoid repeats.\n",
        "  '''\n",
        "\n",
        "  bingo_arr = [\n",
        "               [], [], [], [], []\n",
        "               ]\n",
        "  num_arr = []\n",
        "\n",
        "  num_dict = number_dictionary\n",
        "  num_li = []\n",
        "\n",
        "  # Add 5 Numbers for Each Letter\n",
        "  for key in num_dict:\n",
        "    num_li = [val for val in num_dict[key]]\n",
        "    \n",
        "    # Find 5 Unique Values\n",
        "    while len(num_arr) < 5:\n",
        "      num = random.choice(num_li)\n",
        "      if num not in num_arr:\n",
        "        num_arr.append(num)\n",
        "    \n",
        "    # Add a value to each row in the corresponding letter column\n",
        "    if len(num_arr) == 5:\n",
        "      for i in range (5):\n",
        "        bingo_arr[i].append(num_arr[i])\n",
        "      num_arr = []\n",
        "  \n",
        "  # Set Free Space\n",
        "  bingo_arr[2][2] = 'XX'\n",
        "\n",
        "  return bingo_arr"
      ],
      "metadata": {
        "id": "Y2Zb5wGnhGh5"
      },
      "execution_count": 163,
      "outputs": []
    },
    {
      "cell_type": "code",
      "source": [
        "def fill_board(square_list):\n",
        "  '''\n",
        "  Returns a 5 x 5 array representing an bingo board, \n",
        "  with the middle square labeled as \"Free Space\"\n",
        "  Require one list, ideally with 25 unique entries to avoid repeats.\n",
        "  '''\n",
        "\n",
        "  bingo_arr = []\n",
        "  row_arr = []\n",
        "  sq_li = [val for val in square_list]\n",
        "\n",
        "  for i in range(5):\n",
        "    for j in range(5):\n",
        "      square = random.choice(sq_li)\n",
        "      row_arr.append(square)\n",
        "      sq_li.remove(square)\n",
        "\n",
        "      if len(row_arr) == 5:\n",
        "        bingo_arr.append(row_arr)\n",
        "        row_arr = []\n",
        "  \n",
        "  bingo_arr[2][2] = 'Free Space'\n",
        "\n",
        "  return bingo_arr"
      ],
      "metadata": {
        "id": "8v2--hilempm"
      },
      "execution_count": 164,
      "outputs": []
    },
    {
      "cell_type": "markdown",
      "source": [
        "#Tests"
      ],
      "metadata": {
        "id": "o48yT6ZzjHDI"
      }
    },
    {
      "cell_type": "code",
      "source": [
        "board_one = bingo_board(bingo_default)\n",
        "board_one"
      ],
      "metadata": {
        "colab": {
          "base_uri": "https://localhost:8080/"
        },
        "id": "RfPlEgDke422",
        "outputId": "46f67f2f-a73c-4d5d-ae5f-e6ccfb80b072"
      },
      "execution_count": 165,
      "outputs": [
        {
          "output_type": "execute_result",
          "data": {
            "text/plain": [
              "[[3, 28, 42, 57, 62],\n",
              " [2, 16, 35, 59, 74],\n",
              " [6, 22, 'XX', 50, 65],\n",
              " [14, 21, 38, 47, 66],\n",
              " [5, 17, 43, 55, 64]]"
            ]
          },
          "metadata": {},
          "execution_count": 165
        }
      ]
    },
    {
      "cell_type": "code",
      "source": [
        "board_two = fill_board(bingo_test_one)\n",
        "board_two"
      ],
      "metadata": {
        "colab": {
          "base_uri": "https://localhost:8080/"
        },
        "id": "yhys1yNli6od",
        "outputId": "bfd919f9-6963-4eae-c5bf-afc9c89261cd"
      },
      "execution_count": 166,
      "outputs": [
        {
          "output_type": "execute_result",
          "data": {
            "text/plain": [
              "[[10, 4, 21, 1, 11],\n",
              " [3, 6, 12, 19, 22],\n",
              " [7, 2, 'Free Space', 23, 5],\n",
              " [13, 17, 18, 14, 8],\n",
              " [24, 25, 9, 20, 15]]"
            ]
          },
          "metadata": {},
          "execution_count": 166
        }
      ]
    },
    {
      "cell_type": "markdown",
      "source": [
        "# Clean Data"
      ],
      "metadata": {
        "id": "H8X8XXtAxmvU"
      }
    },
    {
      "cell_type": "code",
      "source": [
        "def google_form_clean(filepath):\n",
        "  '''\n",
        "  Returns a list of submissions from a google form as a list\n",
        "  Requires CSV file from google form with only one short/long answer \n",
        "  submission field\n",
        "  '''\n",
        "\n",
        "  # Create and DF and rename columns\n",
        "  df = pd.read_csv(filepath)\n",
        "  df.columns = ['timestamp', 'submissions']\n",
        "\n",
        "  li = [sub for sub in df['submissions']]\n",
        "\n",
        "  # return Submisions Column as List\n",
        "  return li"
      ],
      "metadata": {
        "id": "a7VlmaZjx6MF"
      },
      "execution_count": 167,
      "outputs": []
    },
    {
      "cell_type": "markdown",
      "source": [
        "# Utilization"
      ],
      "metadata": {
        "id": "bvVdm1D8zv-R"
      }
    },
    {
      "cell_type": "markdown",
      "source": [
        "## Kawaii Nosferatu Bingo Boards"
      ],
      "metadata": {
        "id": "IVbZK4Puzy16"
      }
    },
    {
      "cell_type": "code",
      "source": [
        "# Import and Clean Google Form Submissions\n",
        "kn_fp = '/content/kawaii_bingo.csv'\n",
        "kn_list = google_form_clean(kn_fp)"
      ],
      "metadata": {
        "id": "X88XtesCxxoY"
      },
      "execution_count": 168,
      "outputs": []
    },
    {
      "cell_type": "code",
      "source": [
        "# Create 3 Board Options\n",
        "kn_b1 = fill_board(kn_list)\n",
        "kn_b2 = fill_board(kn_list)\n",
        "kn_b3 = fill_board(kn_list)"
      ],
      "metadata": {
        "id": "PRCoW19mymur"
      },
      "execution_count": 169,
      "outputs": []
    },
    {
      "cell_type": "code",
      "source": [
        "kn_b1"
      ],
      "metadata": {
        "colab": {
          "base_uri": "https://localhost:8080/"
        },
        "id": "6aeRni5a0Qqb",
        "outputId": "0158d2e7-8f1a-4bc1-d75b-3dd4f28ebc3e"
      },
      "execution_count": 170,
      "outputs": [
        {
          "output_type": "execute_result",
          "data": {
            "text/plain": [
              "[['Send a Message in Chat',\n",
              "  'Wear a Costume',\n",
              "  'Make a Wish',\n",
              "  'Eat Candy',\n",
              "  'Kawaii Shows Off Outfit'],\n",
              " ['Redeem Hydrate Reward',\n",
              "  'Eat Spooky Cookies',\n",
              "  'Dress Like Jack',\n",
              "  'Scare a Villager',\n",
              "  'Get Tricked'],\n",
              " ['Eat Lollipop',\n",
              "  'Kawaii Wears Drug Hat',\n",
              "  'Free Space',\n",
              "  'Poop',\n",
              "  'Redeem Card Pull'],\n",
              " [\"Kawaii Says 'Fuck'\",\n",
              "  'Subscribe or Gift Subscription',\n",
              "  'Give a Villager Candy',\n",
              "  'Redeem a Channel Point Reward',\n",
              "  'Participate in Group Stretch'],\n",
              " ['Sell a Hot Item',\n",
              "  'Play Pan Flute',\n",
              "  'Find a Villager Crafting/Cooking',\n",
              "  'Kawaii wears Witch Hat',\n",
              "  'Drink Coffee at Brewster’s']]"
            ]
          },
          "metadata": {},
          "execution_count": 170
        }
      ]
    },
    {
      "cell_type": "code",
      "source": [
        "kn_b2"
      ],
      "metadata": {
        "colab": {
          "base_uri": "https://localhost:8080/"
        },
        "id": "ry2VpXG60T_j",
        "outputId": "3967f996-7ea9-40fa-e927-503098c9c422"
      },
      "execution_count": 171,
      "outputs": [
        {
          "output_type": "execute_result",
          "data": {
            "text/plain": [
              "[['Use Spooky Treats Basket',\n",
              "  'Kawaii Performs',\n",
              "  'Participate in Group Stretch',\n",
              "  \"Kawaii Says 'Fuck'\",\n",
              "  'Scare a Villager'],\n",
              " ['Find a Villager Crafting/Cooking',\n",
              "  'Change into a Wand Outfit',\n",
              "  'Redeem Hydrate Reward',\n",
              "  'Redeem Card Pull',\n",
              "  'Give a Villager Candy'],\n",
              " ['Kawaii Wears Drug Hat',\n",
              "  'Eat Spooky Cookies',\n",
              "  'Free Space',\n",
              "  'Kawaii Shows Off Outfit',\n",
              "  'Eat Candy'],\n",
              " ['Sell a Hot Item',\n",
              "  'Dance on Dance Floor',\n",
              "  'Send a Message in Chat',\n",
              "  'Dress Like Jack',\n",
              "  'Subscribe or Gift Subscription'],\n",
              " ['Show Off Spooky Critter',\n",
              "  'Redeem 500 or more total points',\n",
              "  'Play Pan Flute',\n",
              "  'Poop',\n",
              "  'Drink Coffee at Brewster’s']]"
            ]
          },
          "metadata": {},
          "execution_count": 171
        }
      ]
    },
    {
      "cell_type": "code",
      "source": [
        "kn_b3"
      ],
      "metadata": {
        "colab": {
          "base_uri": "https://localhost:8080/"
        },
        "id": "kiX6hJ6k0X4D",
        "outputId": "0d4d5f0d-eae9-43b2-c30a-a2640cf334f1"
      },
      "execution_count": 172,
      "outputs": [
        {
          "output_type": "execute_result",
          "data": {
            "text/plain": [
              "[['Redeem Card Pull',\n",
              "  'Redeem a Channel Point Reward',\n",
              "  'Dance on Dance Floor',\n",
              "  'Redeem 500 or more total points',\n",
              "  'Change into a Wand Outfit'],\n",
              " ['Kawaii Shows Off Outfit',\n",
              "  'Kawaii wears Witch Hat',\n",
              "  \"Kawaii Says 'Fuck'\",\n",
              "  'Scare a Villager',\n",
              "  'Make a Wish'],\n",
              " ['Give a Villager Candy',\n",
              "  'Sell a Hot Item',\n",
              "  'Free Space',\n",
              "  'Kawaii Wears Drug Hat',\n",
              "  'Show Off Spooky Critter'],\n",
              " ['Eat Spooky Cookies',\n",
              "  'Drink Coffee at Brewster’s',\n",
              "  'Find Jack',\n",
              "  'Eat Lollipop',\n",
              "  'Redeem Hydrate Reward'],\n",
              " ['Kawaii Performs',\n",
              "  'Find a Villager Crafting/Cooking',\n",
              "  'Play Pan Flute',\n",
              "  'Use Spooky Treats Basket',\n",
              "  'Participate in Group Stretch']]"
            ]
          },
          "metadata": {},
          "execution_count": 172
        }
      ]
    }
  ]
}