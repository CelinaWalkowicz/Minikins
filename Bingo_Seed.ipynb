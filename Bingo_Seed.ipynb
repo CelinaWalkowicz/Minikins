{
  "nbformat": 4,
  "nbformat_minor": 0,
  "metadata": {
    "colab": {
      "name": "Bingo Seed",
      "provenance": [],
      "authorship_tag": "ABX9TyPHeqZcJcwGsCoND1s+gCgv",
      "include_colab_link": true
    },
    "kernelspec": {
      "name": "python3",
      "display_name": "Python 3"
    },
    "language_info": {
      "name": "python"
    }
  },
  "cells": [
    {
      "cell_type": "markdown",
      "metadata": {
        "id": "view-in-github",
        "colab_type": "text"
      },
      "source": [
        "<a href=\"https://colab.research.google.com/github/CelinaWalkowicz/Minikins/blob/main/Bingo_Seed.ipynb\" target=\"_parent\"><img src=\"https://colab.research.google.com/assets/colab-badge.svg\" alt=\"Open In Colab\"/></a>"
      ]
    },
    {
      "cell_type": "markdown",
      "source": [
        "#Imports and Data"
      ],
      "metadata": {
        "id": "9jXL952ajJ49"
      }
    },
    {
      "cell_type": "code",
      "source": [
        "# Imports\n",
        "import random"
      ],
      "metadata": {
        "id": "jCxs_Z0RfEfv"
      },
      "execution_count": 5,
      "outputs": []
    },
    {
      "cell_type": "code",
      "source": [
        "# Source Data\n",
        "\n",
        "# Default Spread of Bingo Numbers \n",
        "bingo_default = {\n",
        "    'b' : [num for num in range(1, 16)],\n",
        "    'i' : [num for num in range(16, 31)],\n",
        "    'n' : [num for num in range(31, 46)],\n",
        "    'g' : [num for num in range(46, 61)],\n",
        "    'o' : [num for num in range(61, 76)]\n",
        "    }\n",
        "\n",
        "# Test Data\n",
        "bingo_test_one = [num for num in range(1, 26)]"
      ],
      "metadata": {
        "id": "_wuoTEzMeiUu"
      },
      "execution_count": 25,
      "outputs": []
    },
    {
      "cell_type": "markdown",
      "source": [
        "#Functions"
      ],
      "metadata": {
        "id": "YhlqkEUUjIst"
      }
    },
    {
      "cell_type": "code",
      "source": [
        "def bingo_board(number_dictionary):\n",
        "  '''\n",
        "  Returns a 5 x 5 array representing an traditional number filled bingo board, \n",
        "  with the middle square labeled as \"XX\" for \"Free Space\"\n",
        "  Require one list, ideally with 25 unique entries to avoid repeats.\n",
        "  '''\n",
        "\n",
        "  bingo_arr = []\n",
        "  row_arr = []\n",
        "\n",
        "  # Add 5 Numbers for Each Letter\n",
        "  for key in number_dictionary:\n",
        "\n",
        "    for i in range(5):\n",
        "      num = random.choice(number_dictionary[key])\n",
        "      row_arr.append(num)\n",
        "    \n",
        "    bingo_arr.append(row_arr)\n",
        "    row_arr = []\n",
        "  \n",
        "  # Set Free Space\n",
        "  bingo_arr[2][2] = 'XX'\n",
        "\n",
        "  return bingo_arr"
      ],
      "metadata": {
        "id": "Y2Zb5wGnhGh5"
      },
      "execution_count": 22,
      "outputs": []
    },
    {
      "cell_type": "code",
      "source": [
        "def fill_board(square_list):\n",
        "  '''\n",
        "  Returns a 5 x 5 array representing an bingo board, \n",
        "  with the middle square labeled as \"Free Space\"\n",
        "  Require one list, ideally with 25 unique entries to avoid repeats.\n",
        "  '''\n",
        "\n",
        "  bingo_arr = []\n",
        "  row_arr = []\n",
        "\n",
        "  for i in range(5):\n",
        "    for j in range(5):\n",
        "      square = random.choice(square_list)\n",
        "      row_arr.append(square)\n",
        "\n",
        "      if len(row_arr) == 5:\n",
        "        bingo_arr.append(row_arr)\n",
        "        row_arr = []\n",
        "  \n",
        "  bingo_arr[2][2] = 'Free Space'\n",
        "\n",
        "  return bingo_arr"
      ],
      "metadata": {
        "id": "8v2--hilempm"
      },
      "execution_count": 23,
      "outputs": []
    },
    {
      "cell_type": "markdown",
      "source": [
        "#Tests"
      ],
      "metadata": {
        "id": "o48yT6ZzjHDI"
      }
    },
    {
      "cell_type": "code",
      "source": [
        "board_one = bingo_board(bingo_default)\n",
        "board_one"
      ],
      "metadata": {
        "colab": {
          "base_uri": "https://localhost:8080/"
        },
        "id": "RfPlEgDke422",
        "outputId": "d3bee69b-f65a-4a45-8cf0-bf0aa7b19794"
      },
      "execution_count": 24,
      "outputs": [
        {
          "output_type": "execute_result",
          "data": {
            "text/plain": [
              "[[5, 11, 3, 14, 14],\n",
              " [20, 18, 30, 30, 30],\n",
              " [37, 35, 'XX', 38, 39],\n",
              " [48, 52, 52, 55, 52],\n",
              " [75, 65, 75, 75, 65]]"
            ]
          },
          "metadata": {},
          "execution_count": 24
        }
      ]
    },
    {
      "cell_type": "code",
      "source": [
        "board_two = fill_board(bingo_test_one)\n",
        "board_two"
      ],
      "metadata": {
        "colab": {
          "base_uri": "https://localhost:8080/"
        },
        "id": "yhys1yNli6od",
        "outputId": "7fdadf08-12f0-4e9c-899c-be0122b14639"
      },
      "execution_count": 27,
      "outputs": [
        {
          "output_type": "execute_result",
          "data": {
            "text/plain": [
              "[[11, 18, 22, 14, 5],\n",
              " [5, 14, 8, 21, 15],\n",
              " [2, 7, 'Free Space', 25, 2],\n",
              " [17, 19, 25, 1, 18],\n",
              " [9, 21, 11, 1, 5]]"
            ]
          },
          "metadata": {},
          "execution_count": 27
        }
      ]
    },
    {
      "cell_type": "code",
      "source": [
        ""
      ],
      "metadata": {
        "id": "TNddZY6MlImc"
      },
      "execution_count": null,
      "outputs": []
    }
  ]
}