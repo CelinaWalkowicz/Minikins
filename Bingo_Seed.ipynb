{
  "nbformat": 4,
  "nbformat_minor": 0,
  "metadata": {
    "colab": {
      "name": "Bingo Seed",
      "provenance": [],
      "authorship_tag": "ABX9TyNi0DicX9g0VA93xuGKgYbL",
      "include_colab_link": true
    },
    "kernelspec": {
      "name": "python3",
      "display_name": "Python 3"
    },
    "language_info": {
      "name": "python"
    }
  },
  "cells": [
    {
      "cell_type": "markdown",
      "metadata": {
        "id": "view-in-github",
        "colab_type": "text"
      },
      "source": [
        "<a href=\"https://colab.research.google.com/github/CelinaWalkowicz/Minikins/blob/main/Bingo_Seed.ipynb\" target=\"_parent\"><img src=\"https://colab.research.google.com/assets/colab-badge.svg\" alt=\"Open In Colab\"/></a>"
      ]
    },
    {
      "cell_type": "markdown",
      "source": [
        "#Imports and Data"
      ],
      "metadata": {
        "id": "9jXL952ajJ49"
      }
    },
    {
      "cell_type": "code",
      "source": [
        "# Imports\n",
        "import random\n",
        "import pandas as pd"
      ],
      "metadata": {
        "id": "jCxs_Z0RfEfv"
      },
      "execution_count": 31,
      "outputs": []
    },
    {
      "cell_type": "code",
      "source": [
        "# Default Spread of Bingo Numbers \n",
        "bingo_default = {\n",
        "    'b' : [num for num in range(1, 16)],\n",
        "    'i' : [num for num in range(16, 31)],\n",
        "    'n' : [num for num in range(31, 46)],\n",
        "    'g' : [num for num in range(46, 61)],\n",
        "    'o' : [num for num in range(61, 76)]\n",
        "    }\n",
        "\n",
        "# Test Data\n",
        "bingo_test_one = [num for num in range(1, 26)]"
      ],
      "metadata": {
        "id": "_wuoTEzMeiUu"
      },
      "execution_count": 28,
      "outputs": []
    },
    {
      "cell_type": "markdown",
      "source": [
        "#Functions"
      ],
      "metadata": {
        "id": "YhlqkEUUjIst"
      }
    },
    {
      "cell_type": "code",
      "source": [
        "def bingo_board(number_dictionary):\n",
        "  '''\n",
        "  Returns a 5 x 5 array representing an traditional number filled bingo board, \n",
        "  with the middle square labeled as \"XX\" for \"Free Space\"\n",
        "  Require one list, ideally with 25 unique entries to avoid repeats.\n",
        "  '''\n",
        "\n",
        "  bingo_arr = []\n",
        "  row_arr = []\n",
        "\n",
        "  # Add 5 Numbers for Each Letter\n",
        "  for key in number_dictionary:\n",
        "\n",
        "    for i in range(5):\n",
        "      num = random.choice(number_dictionary[key])\n",
        "      row_arr.append(num)\n",
        "    \n",
        "    bingo_arr.append(row_arr)\n",
        "    row_arr = []\n",
        "  \n",
        "  # Set Free Space\n",
        "  bingo_arr[2][2] = 'XX'\n",
        "\n",
        "  return bingo_arr"
      ],
      "metadata": {
        "id": "Y2Zb5wGnhGh5"
      },
      "execution_count": 22,
      "outputs": []
    },
    {
      "cell_type": "code",
      "source": [
        "def fill_board(square_list):\n",
        "  '''\n",
        "  Returns a 5 x 5 array representing an bingo board, \n",
        "  with the middle square labeled as \"Free Space\"\n",
        "  Require one list, ideally with 25 unique entries to avoid repeats.\n",
        "  '''\n",
        "\n",
        "  bingo_arr = []\n",
        "  row_arr = []\n",
        "\n",
        "  for i in range(5):\n",
        "    for j in range(5):\n",
        "      square = random.choice(square_list)\n",
        "      row_arr.append(square)\n",
        "\n",
        "      if len(row_arr) == 5:\n",
        "        bingo_arr.append(row_arr)\n",
        "        row_arr = []\n",
        "  \n",
        "  bingo_arr[2][2] = 'Free Space'\n",
        "\n",
        "  return bingo_arr"
      ],
      "metadata": {
        "id": "8v2--hilempm"
      },
      "execution_count": 23,
      "outputs": []
    },
    {
      "cell_type": "markdown",
      "source": [
        "#Tests"
      ],
      "metadata": {
        "id": "o48yT6ZzjHDI"
      }
    },
    {
      "cell_type": "code",
      "source": [
        "board_one = bingo_board(bingo_default)\n",
        "board_one"
      ],
      "metadata": {
        "colab": {
          "base_uri": "https://localhost:8080/"
        },
        "id": "RfPlEgDke422",
        "outputId": "d3bee69b-f65a-4a45-8cf0-bf0aa7b19794"
      },
      "execution_count": 24,
      "outputs": [
        {
          "output_type": "execute_result",
          "data": {
            "text/plain": [
              "[[5, 11, 3, 14, 14],\n",
              " [20, 18, 30, 30, 30],\n",
              " [37, 35, 'XX', 38, 39],\n",
              " [48, 52, 52, 55, 52],\n",
              " [75, 65, 75, 75, 65]]"
            ]
          },
          "metadata": {},
          "execution_count": 24
        }
      ]
    },
    {
      "cell_type": "code",
      "source": [
        "board_two = fill_board(bingo_test_one)\n",
        "board_two"
      ],
      "metadata": {
        "colab": {
          "base_uri": "https://localhost:8080/"
        },
        "id": "yhys1yNli6od",
        "outputId": "7fdadf08-12f0-4e9c-899c-be0122b14639"
      },
      "execution_count": 27,
      "outputs": [
        {
          "output_type": "execute_result",
          "data": {
            "text/plain": [
              "[[11, 18, 22, 14, 5],\n",
              " [5, 14, 8, 21, 15],\n",
              " [2, 7, 'Free Space', 25, 2],\n",
              " [17, 19, 25, 1, 18],\n",
              " [9, 21, 11, 1, 5]]"
            ]
          },
          "metadata": {},
          "execution_count": 27
        }
      ]
    },
    {
      "cell_type": "markdown",
      "source": [
        "# Clean Data"
      ],
      "metadata": {
        "id": "H8X8XXtAxmvU"
      }
    },
    {
      "cell_type": "code",
      "source": [
        "def google_form_clean(filepath):\n",
        "  '''\n",
        "  Returns a list of submissions from a google form as a list\n",
        "  Requires CSV file from google form with only one short/long answer \n",
        "  submission field\n",
        "  '''\n",
        "\n",
        "  # Create and DF and rename columns\n",
        "  df = pd.read_csv(filepath)\n",
        "  df.columns = ['timestamp', 'submissions']\n",
        "\n",
        "  li = [sub for sub in df['submissions']]\n",
        "\n",
        "  # return Submisions Column as List\n",
        "  return li"
      ],
      "metadata": {
        "id": "a7VlmaZjx6MF"
      },
      "execution_count": 56,
      "outputs": []
    },
    {
      "cell_type": "markdown",
      "source": [
        "# Utilization"
      ],
      "metadata": {
        "id": "bvVdm1D8zv-R"
      }
    },
    {
      "cell_type": "markdown",
      "source": [
        "## Kawaii Nosferatu Bingo Boards"
      ],
      "metadata": {
        "id": "IVbZK4Puzy16"
      }
    },
    {
      "cell_type": "code",
      "source": [
        "# Import and Clean Google Form Submissions\n",
        "kn_fp = '/content/kawaii_bingo.csv'\n",
        "kn_list = google_form_clean(kn_fp)"
      ],
      "metadata": {
        "id": "X88XtesCxxoY"
      },
      "execution_count": 58,
      "outputs": []
    },
    {
      "cell_type": "code",
      "source": [
        "# Create 3 Board Options\n",
        "kn_b1 = fill_board(kn_list)\n",
        "kn_b2 = fill_board(kn_list)\n",
        "kn_b3 = fill_board(kn_list)"
      ],
      "metadata": {
        "id": "PRCoW19mymur"
      },
      "execution_count": 59,
      "outputs": []
    },
    {
      "cell_type": "code",
      "source": [
        "kn_b1"
      ],
      "metadata": {
        "colab": {
          "base_uri": "https://localhost:8080/"
        },
        "id": "6aeRni5a0Qqb",
        "outputId": "8c6f6909-51e7-4cad-c7a0-dbdf265c5eff"
      },
      "execution_count": 61,
      "outputs": [
        {
          "output_type": "execute_result",
          "data": {
            "text/plain": [
              "[['Show Off Spooky Critter',\n",
              "  'Redeem Hydrate Reward',\n",
              "  'Kawaii wears Witch Hat',\n",
              "  'Kawaii wears Witch Hat',\n",
              "  'Redeem Card Pull'],\n",
              " ['Change into a Wand Outfit',\n",
              "  'Dress Like Jack',\n",
              "  'Redeem a Channel Point Reward',\n",
              "  'Dress Like Jack',\n",
              "  'Kawaii Shows Off Outfit'],\n",
              " ['Play Pan Flute', 'Dance on Dance Floor', 'Free Space', 'Eat Candy', 'Poop'],\n",
              " ['Kawaii Performs',\n",
              "  'Kawaii Wears Drug Hat',\n",
              "  'Redeem Hydrate Reward',\n",
              "  'Change into a Wand Outfit',\n",
              "  'Eat Candy'],\n",
              " ['Drink Coffee at Brewster’s',\n",
              "  'Kawaii Shows Off Outfit',\n",
              "  'Find a Villager Crafting/Cooking',\n",
              "  'Poop',\n",
              "  'Dance on Dance Floor']]"
            ]
          },
          "metadata": {},
          "execution_count": 61
        }
      ]
    },
    {
      "cell_type": "code",
      "source": [
        "kn_b2"
      ],
      "metadata": {
        "colab": {
          "base_uri": "https://localhost:8080/"
        },
        "id": "ry2VpXG60T_j",
        "outputId": "6d7429d7-fc02-44f2-a4a3-842d35077f86"
      },
      "execution_count": 62,
      "outputs": [
        {
          "output_type": "execute_result",
          "data": {
            "text/plain": [
              "[['Poop',\n",
              "  'Subscribe or Gift Subscription',\n",
              "  'Redeem 500 or more total points',\n",
              "  'Get Chased by Wasps',\n",
              "  'Redeem a Channel Point Reward'],\n",
              " ['Eat Lollipop',\n",
              "  'Kawaii Shows Off Outfit',\n",
              "  'Dress Like Jack',\n",
              "  'Dress Like Jack',\n",
              "  'Find a Villager Crafting/Cooking'],\n",
              " ['Participate in Group Stretch',\n",
              "  'Send a Message in Chat',\n",
              "  'Free Space',\n",
              "  'Show Off Spooky Critter',\n",
              "  'Make a Wish'],\n",
              " ['Scare a Villager',\n",
              "  'Poop',\n",
              "  'Eat Lollipop',\n",
              "  'Redeem a Channel Point Reward',\n",
              "  'Wear a Costume'],\n",
              " ['Give a Villager Candy',\n",
              "  'Send a Message in Chat',\n",
              "  'Wear a Costume',\n",
              "  'Redeem Card Pull',\n",
              "  'Find Jack']]"
            ]
          },
          "metadata": {},
          "execution_count": 62
        }
      ]
    },
    {
      "cell_type": "code",
      "source": [
        "kn_b3"
      ],
      "metadata": {
        "colab": {
          "base_uri": "https://localhost:8080/"
        },
        "id": "kiX6hJ6k0X4D",
        "outputId": "f3e487b9-b230-46a9-ba21-d0ab95813aeb"
      },
      "execution_count": 63,
      "outputs": [
        {
          "output_type": "execute_result",
          "data": {
            "text/plain": [
              "[['Subscribe or Gift Subscription',\n",
              "  'Eat Lollipop',\n",
              "  'Get Tricked',\n",
              "  'Show Off Spooky Critter',\n",
              "  'Kawaii Wears Drug Hat'],\n",
              " ['Scare a Villager',\n",
              "  'Eat Spooky Cookies',\n",
              "  'Sell a Hot Item',\n",
              "  'Dress Like Jack',\n",
              "  'Change into a Wand Outfit'],\n",
              " ['Eat Lollipop',\n",
              "  'Send a Message in Chat',\n",
              "  'Free Space',\n",
              "  'Drink Coffee at Brewster’s',\n",
              "  'Find a Villager Crafting/Cooking'],\n",
              " ['Redeem a Channel Point Reward',\n",
              "  'Eat Spooky Cookies',\n",
              "  'Find a Villager Crafting/Cooking',\n",
              "  'Participate in Group Stretch',\n",
              "  'Find a Villager Crafting/Cooking'],\n",
              " ['Give a Villager Candy',\n",
              "  'Get Chased by Wasps',\n",
              "  'Redeem Card Pull',\n",
              "  'Send a Message in Chat',\n",
              "  'Find Jack']]"
            ]
          },
          "metadata": {},
          "execution_count": 63
        }
      ]
    }
  ]
}